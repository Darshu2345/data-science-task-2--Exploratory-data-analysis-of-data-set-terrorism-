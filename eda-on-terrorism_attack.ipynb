import pandas as pd
import numpy as np
import matplotlib.pyplot as plt
import seaborn as sns
%matplotlib inline
df = pd.read_csv('/content/sample_data/globalterrorismdb_0718dist.csv', encoding='ISO-8859-1',low_memory=False)
df
eventid	iyear	imonth	iday	approxdate	extended	resolution	country	country_txt	region	...	addnotes	scite1	scite2	scite3	dbsource	INT_LOG	INT_IDEO	INT_MISC	INT_ANY	related
0	197000000001	1970	7	2	NaN	0	NaN	58	Dominican Republic	2	...	NaN	NaN	NaN	NaN	PGIS	0	0	0	0	NaN
1	197000000002	1970	0	0	NaN	0	NaN	130	Mexico	1	...	NaN	NaN	NaN	NaN	PGIS	0	1	1	1	NaN
2	197001000001	1970	1	0	NaN	0	NaN	160	Philippines	5	...	NaN	NaN	NaN	NaN	PGIS	-9	-9	1	1	NaN
3	197001000002	1970	1	0	NaN	0	NaN	78	Greece	8	...	NaN	NaN	NaN	NaN	PGIS	-9	-9	1	1	NaN
4	197001000003	1970	1	0	NaN	0	NaN	101	Japan	4	...	NaN	NaN	NaN	NaN	PGIS	-9	-9	1	1	NaN
...	...	...	...	...	...	...	...	...	...	...	...	...	...	...	...	...	...	...	...	...	...
181686	201712310022	2017	12	31	NaN	0	NaN	182	Somalia	11	...	NaN	"Somalia: Al-Shabaab Militants Attack Army Che...	"Highlights: Somalia Daily Media Highlights 2 ...	"Highlights: Somalia Daily Media Highlights 1 ...	START Primary Collection	0	0	0	0	NaN
181687	201712310029	2017	12	31	NaN	0	NaN	200	Syria	10	...	NaN	"Putin's 'victory' in Syria has turned into a ...	"Two Russian soldiers killed at Hmeymim base i...	"Two Russian servicemen killed in Syria mortar...	START Primary Collection	-9	-9	1	1	NaN
181688	201712310030	2017	12	31	NaN	0	NaN	160	Philippines	5	...	NaN	"Maguindanao clashes trap tribe members," Phil...	NaN	NaN	START Primary Collection	0	0	0	0	NaN
181689	201712310031	2017	12	31	NaN	0	NaN	92	India	6	...	NaN	"Trader escapes grenade attack in Imphal," Bus...	NaN	NaN	START Primary Collection	-9	-9	0	-9	NaN
181690	201712310032	2017	12	31	NaN	0	NaN	160	Philippines	5	...	NaN	"Security tightened in Cotabato following IED ...	"Security tightened in Cotabato City," Manila ...	NaN	START Primary Collection	-9	-9	0	-9	NaN
181691 rows × 135 columns

df.isnull().sum()
df.drop(['approxdate', 'resolution', 'location', 'summary', 'alternative', 'alternative_txt', 'attacktype2', 'attacktype2_txt', 'attacktype3', 'attacktype3_txt', 'doubtterr', 'multiple', 'related', 'country', 'region', 'crit1', 'crit2', 'crit3', 'natlty1', 'natlty1_txt', 'property', 'propextent', 'propextent_txt', 'propvalue', 'propcomment', 'ishostkid', 'nhostkid', 'nhostkidus', 'nhours', 'ndays', 'divert', 'kidhijcountry', 'ransom', 'ransomamt', 'ransomamtus', 'ransompaid', 'ransompaidus', 'hostkidoutcome', 'hostkidoutcome_txt', 'nreleased', 'addnotes'], axis=1, inplace=True)
df.rename(columns={'iyear':'Year', 'imonth':'Month', 'iday':'Day', 'extended':'Extended', 'country_txt':'Country', 'region_txt':'Region', 'city':'City', 'latitude':'Latitude', 'longitude':'Longitude', 'attacktype1_txt':'AttackType', 'targtype1_txt':'TargetType', 'gname':'GroupName', 'motive':'Motive', 'weaptype1_txt':'WeaponType', 'nkill':'Kill', 'nwound':'Wound'}, inplace=True)
#Number of Attacks by Year
df['Year'].value_counts().sort_index().plot(kind='bar', figsize=(15,5), color='blue')
plt.title('Number of Attacks by Year')
plt.xlabel('Year')
plt.ylabel('Number of Attacks')
plt.show()

#Number of Attacks by Region
df['Region'].value_counts().plot(kind='bar', figsize=(15,5), color='green')
plt.title('Number of Attacks by Region')
plt.xlabel('Region')
plt.ylabel('Number of Attacks')
plt.show()

#Number of Attacks by Country
df['Country'].value_counts().head(20).plot(kind='bar', figsize=(15,5), color='red')
plt.title('Number of Attacks by Country')
plt.xlabel('Country')
plt.ylabel('Number of Attacks')
plt.show()


